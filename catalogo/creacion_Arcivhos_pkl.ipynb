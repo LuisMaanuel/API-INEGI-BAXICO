{
 "cells": [
  {
   "cell_type": "code",
   "execution_count": 22,
   "metadata": {},
   "outputs": [],
   "source": [
    "import pandas as pd\n",
    "\n",
    "inegi = pd.read_excel('catalogoCompletoINEGI.xlsx')\n",
    "banxico = pd.read_excel('CatalogoCompletoBanxico.xlsx')\n",
    "\n",
    "\n",
    "inegi.to_pickle('catalogoINEGI.pkl')\n",
    "banxico.to_pickle('catalogoBANXICO.pkl')"
   ]
  },
  {
   "cell_type": "code",
   "execution_count": 23,
   "metadata": {},
   "outputs": [
    {
     "data": {
      "text/html": [
       "<div>\n",
       "<style scoped>\n",
       "    .dataframe tbody tr th:only-of-type {\n",
       "        vertical-align: middle;\n",
       "    }\n",
       "\n",
       "    .dataframe tbody tr th {\n",
       "        vertical-align: top;\n",
       "    }\n",
       "\n",
       "    .dataframe thead th {\n",
       "        text-align: right;\n",
       "    }\n",
       "</style>\n",
       "<table border=\"1\" class=\"dataframe\">\n",
       "  <thead>\n",
       "    <tr style=\"text-align: right;\">\n",
       "      <th></th>\n",
       "      <th>Variables</th>\n",
       "      <th>Claves</th>\n",
       "      <th>FechaActualizacion</th>\n",
       "      <th>Nivel1</th>\n",
       "    </tr>\n",
       "  </thead>\n",
       "  <tbody>\n",
       "    <tr>\n",
       "      <th>0</th>\n",
       "      <td>Indicadores económicos de coyuntura &gt; Població...</td>\n",
       "      <td>289242</td>\n",
       "      <td>Fecha de última actualización: 2023-11-27</td>\n",
       "      <td>Indicadores económicos de coyuntura</td>\n",
       "    </tr>\n",
       "    <tr>\n",
       "      <th>1</th>\n",
       "      <td>Indicadores económicos de coyuntura &gt; Població...</td>\n",
       "      <td>289243</td>\n",
       "      <td>Fecha de última actualización: 2023-11-27</td>\n",
       "      <td>Indicadores económicos de coyuntura</td>\n",
       "    </tr>\n",
       "    <tr>\n",
       "      <th>2</th>\n",
       "      <td>Indicadores económicos de coyuntura &gt; Població...</td>\n",
       "      <td>289244</td>\n",
       "      <td>Fecha de última actualización: 2023-11-27</td>\n",
       "      <td>Indicadores económicos de coyuntura</td>\n",
       "    </tr>\n",
       "    <tr>\n",
       "      <th>3</th>\n",
       "      <td>Indicadores económicos de coyuntura &gt; Població...</td>\n",
       "      <td>289245</td>\n",
       "      <td>Fecha de última actualización: 2023-11-27</td>\n",
       "      <td>Indicadores económicos de coyuntura</td>\n",
       "    </tr>\n",
       "    <tr>\n",
       "      <th>4</th>\n",
       "      <td>Indicadores económicos de coyuntura &gt; Població...</td>\n",
       "      <td>289246</td>\n",
       "      <td>Fecha de última actualización: 2023-11-27</td>\n",
       "      <td>Indicadores económicos de coyuntura</td>\n",
       "    </tr>\n",
       "  </tbody>\n",
       "</table>\n",
       "</div>"
      ],
      "text/plain": [
       "                                           Variables  Claves  \\\n",
       "0  Indicadores económicos de coyuntura > Població...  289242   \n",
       "1  Indicadores económicos de coyuntura > Població...  289243   \n",
       "2  Indicadores económicos de coyuntura > Població...  289244   \n",
       "3  Indicadores económicos de coyuntura > Població...  289245   \n",
       "4  Indicadores económicos de coyuntura > Població...  289246   \n",
       "\n",
       "                          FechaActualizacion  \\\n",
       "0  Fecha de última actualización: 2023-11-27   \n",
       "1  Fecha de última actualización: 2023-11-27   \n",
       "2  Fecha de última actualización: 2023-11-27   \n",
       "3  Fecha de última actualización: 2023-11-27   \n",
       "4  Fecha de última actualización: 2023-11-27   \n",
       "\n",
       "                                Nivel1  \n",
       "0  Indicadores económicos de coyuntura  \n",
       "1  Indicadores económicos de coyuntura  \n",
       "2  Indicadores económicos de coyuntura  \n",
       "3  Indicadores económicos de coyuntura  \n",
       "4  Indicadores económicos de coyuntura  "
      ]
     },
     "execution_count": 23,
     "metadata": {},
     "output_type": "execute_result"
    }
   ],
   "source": [
    "inegi.head()"
   ]
  },
  {
   "cell_type": "code",
   "execution_count": 24,
   "metadata": {},
   "outputs": [
    {
     "data": {
      "text/html": [
       "<div>\n",
       "<style scoped>\n",
       "    .dataframe tbody tr th:only-of-type {\n",
       "        vertical-align: middle;\n",
       "    }\n",
       "\n",
       "    .dataframe tbody tr th {\n",
       "        vertical-align: top;\n",
       "    }\n",
       "\n",
       "    .dataframe thead th {\n",
       "        text-align: right;\n",
       "    }\n",
       "</style>\n",
       "<table border=\"1\" class=\"dataframe\">\n",
       "  <thead>\n",
       "    <tr style=\"text-align: right;\">\n",
       "      <th></th>\n",
       "      <th>Variables</th>\n",
       "      <th>Claves</th>\n",
       "      <th>FechaActualizacion</th>\n",
       "      <th>Nivel1</th>\n",
       "    </tr>\n",
       "  </thead>\n",
       "  <tbody>\n",
       "    <tr>\n",
       "      <th>250437</th>\n",
       "      <td>Indicadores económicos de coyuntura &gt; Producto...</td>\n",
       "      <td>735879</td>\n",
       "      <td>Fecha de última actualización: 2024-12-26</td>\n",
       "      <td>Indicadores económicos de coyuntura</td>\n",
       "    </tr>\n",
       "  </tbody>\n",
       "</table>\n",
       "</div>"
      ],
      "text/plain": [
       "                                                Variables  Claves  \\\n",
       "250437  Indicadores económicos de coyuntura > Producto...  735879   \n",
       "\n",
       "                               FechaActualizacion  \\\n",
       "250437  Fecha de última actualización: 2024-12-26   \n",
       "\n",
       "                                      Nivel1  \n",
       "250437  Indicadores económicos de coyuntura   "
      ]
     },
     "execution_count": 24,
     "metadata": {},
     "output_type": "execute_result"
    }
   ],
   "source": [
    "inegi[inegi['Variables'] == \n",
    "      'Indicadores económicos de coyuntura > Producto interno bruto trimestral, base 2018 > Series Originales > Valores a precios de 2018 > Producto Interno Bruto']\n"
   ]
  },
  {
   "cell_type": "code",
   "execution_count": 25,
   "metadata": {},
   "outputs": [
    {
     "data": {
      "text/html": [
       "<div>\n",
       "<style scoped>\n",
       "    .dataframe tbody tr th:only-of-type {\n",
       "        vertical-align: middle;\n",
       "    }\n",
       "\n",
       "    .dataframe tbody tr th {\n",
       "        vertical-align: top;\n",
       "    }\n",
       "\n",
       "    .dataframe thead th {\n",
       "        text-align: right;\n",
       "    }\n",
       "</style>\n",
       "<table border=\"1\" class=\"dataframe\">\n",
       "  <thead>\n",
       "    <tr style=\"text-align: right;\">\n",
       "      <th></th>\n",
       "      <th>Ruta</th>\n",
       "      <th>Clave</th>\n",
       "    </tr>\n",
       "  </thead>\n",
       "  <tbody>\n",
       "    <tr>\n",
       "      <th>0</th>\n",
       "      <td>Sector&gt;Agregados Monetarios y Activos Financie...</td>\n",
       "      <td>SF1</td>\n",
       "    </tr>\n",
       "    <tr>\n",
       "      <th>1</th>\n",
       "      <td>Sector&gt;Banco de México&gt;Base Monetaria&gt;Informac...</td>\n",
       "      <td>SF1</td>\n",
       "    </tr>\n",
       "    <tr>\n",
       "      <th>2</th>\n",
       "      <td>Sector&gt;Banco de México&gt;Base Monetaria&gt;Recursos...</td>\n",
       "      <td>SF1</td>\n",
       "    </tr>\n",
       "    <tr>\n",
       "      <th>3</th>\n",
       "      <td>Sector&gt;Billetes y Monedas&gt;Billetes y monedas e...</td>\n",
       "      <td>SF1</td>\n",
       "    </tr>\n",
       "    <tr>\n",
       "      <th>4</th>\n",
       "      <td>Sector&gt;Banco de México&gt;Base Monetaria&gt;Recursos...</td>\n",
       "      <td>SF10</td>\n",
       "    </tr>\n",
       "  </tbody>\n",
       "</table>\n",
       "</div>"
      ],
      "text/plain": [
       "                                                Ruta Clave\n",
       "0  Sector>Agregados Monetarios y Activos Financie...   SF1\n",
       "1  Sector>Banco de México>Base Monetaria>Informac...   SF1\n",
       "2  Sector>Banco de México>Base Monetaria>Recursos...   SF1\n",
       "3  Sector>Billetes y Monedas>Billetes y monedas e...   SF1\n",
       "4  Sector>Banco de México>Base Monetaria>Recursos...  SF10"
      ]
     },
     "execution_count": 25,
     "metadata": {},
     "output_type": "execute_result"
    }
   ],
   "source": [
    "banxico.head()"
   ]
  }
 ],
 "metadata": {
  "kernelspec": {
   "display_name": "Python 3",
   "language": "python",
   "name": "python3"
  },
  "language_info": {
   "codemirror_mode": {
    "name": "ipython",
    "version": 3
   },
   "file_extension": ".py",
   "mimetype": "text/x-python",
   "name": "python",
   "nbconvert_exporter": "python",
   "pygments_lexer": "ipython3",
   "version": "3.10.12"
  }
 },
 "nbformat": 4,
 "nbformat_minor": 2
}
